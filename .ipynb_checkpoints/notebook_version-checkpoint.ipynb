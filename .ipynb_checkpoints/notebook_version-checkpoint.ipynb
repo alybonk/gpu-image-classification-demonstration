{
 "cells": [
  {
   "cell_type": "code",
   "execution_count": 19,
   "id": "941669ef-0f04-4497-8ad6-1a88d7a2d287",
   "metadata": {},
   "outputs": [],
   "source": [
    "import torch\n",
    "from torchvision import models, transforms\n",
    "from PIL import Image\n",
    "import requests\n",
    "import time\n",
    "\n",
    "# Load labels\n",
    "LABELS_URL = \"https://raw.githubusercontent.com/pytorch/hub/master/imagenet_classes.txt\"\n",
    "labels = requests.get(LABELS_URL).text.strip().split(\"\\n\")\n",
    "\n",
    "# Set device\n",
    "device = torch.device(\"cuda\" if torch.cuda.is_available() else \"cpu\")\n",
    "\n",
    "# Transform pipeline\n",
    "transform = transforms.Compose([\n",
    "    transforms.Resize(256),\n",
    "    transforms.CenterCrop(224),\n",
    "    transforms.ToTensor(),\n",
    "    transforms.Normalize(mean=[0.485, 0.456, 0.406],\n",
    "                         std=[0.229, 0.224, 0.225])\n",
    "])"
   ]
  },
  {
   "cell_type": "code",
   "execution_count": 20,
   "id": "ab4afe22-cb96-4224-a0e5-9aace40bce70",
   "metadata": {},
   "outputs": [],
   "source": [
    "def classify_image(img_path):\n",
    "    image = Image.open(img_path).convert(\"RGB\")\n",
    "    input_tensor = transform(image).unsqueeze(0).to(device)\n",
    "\n",
    "    model = models.resnet50(weights=models.ResNet50_Weights.DEFAULT).to(device)\n",
    "    model.eval()\n",
    "\n",
    "    with torch.no_grad():\n",
    "        start = time.time()\n",
    "        output = model(input_tensor)\n",
    "        end = time.time()\n",
    "\n",
    "    probs = torch.nn.functional.softmax(output[0], dim=0)\n",
    "    top5 = torch.topk(probs, 5)\n",
    "\n",
    "    print(f\"\\nInference device: {device}\")\n",
    "    print(f\"Time taken: {end - start:.4f} seconds\\n\")\n",
    "    for i in range(5):\n",
    "        print(f\"{labels[top5.indices[i]]}: {top5.values[i].item()*100:.2f}%\")"
   ]
  },
  {
   "cell_type": "code",
   "execution_count": 22,
   "id": "cde00a1c-df50-4db4-bf0f-17269a8388f0",
   "metadata": {},
   "outputs": [
    {
     "name": "stdout",
     "output_type": "stream",
     "text": [
      "\n",
      "Inference device: cpu\n",
      "Time taken: 0.0504 seconds\n",
      "\n",
      "pug: 38.80%\n",
      "silky terrier: 0.87%\n",
      "bull mastiff: 0.76%\n",
      "chow: 0.58%\n",
      "Norwegian elkhound: 0.44%\n"
     ]
    }
   ],
   "source": [
    "from io import BytesIO\n",
    "\n",
    "# Grab an image from the web and classify it\n",
    "# Use a direct JPG link so PIL can open it\n",
    "img_url = \"https://upload.wikimedia.org/wikipedia/commons/9/9a/Pug_600.jpg\"\n",
    "\n",
    "# Download the image\n",
    "try:\n",
    "    response = requests.get(img_url)\n",
    "    image = Image.open(BytesIO(response.content)).convert(\"RGB\")\n",
    "\n",
    "# Basic error handling to make sure we're getting an image\n",
    "except: \n",
    "    print(response.status_code)\n",
    "    print(response.headers['Content-Type'])\n",
    "    print(response.text[:200])  # Preview first 200 characters\n",
    "\n",
    "\n",
    "# Run it through the classifier\n",
    "classify_image(image)"
   ]
  },
  {
   "cell_type": "code",
   "execution_count": null,
   "id": "3b194762-29d3-4e98-aa63-f04b073f3887",
   "metadata": {},
   "outputs": [],
   "source": []
  },
  {
   "cell_type": "code",
   "execution_count": null,
   "id": "b96ac2ee-3bc5-4a89-83fb-0aed236365bc",
   "metadata": {},
   "outputs": [],
   "source": []
  }
 ],
 "metadata": {
  "kernelspec": {
   "display_name": "Python 3 (ipykernel)",
   "language": "python",
   "name": "python3"
  },
  "language_info": {
   "codemirror_mode": {
    "name": "ipython",
    "version": 3
   },
   "file_extension": ".py",
   "mimetype": "text/x-python",
   "name": "python",
   "nbconvert_exporter": "python",
   "pygments_lexer": "ipython3",
   "version": "3.13.5"
  }
 },
 "nbformat": 4,
 "nbformat_minor": 5
}
