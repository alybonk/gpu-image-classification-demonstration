{
 "cells": [
  {
   "cell_type": "code",
   "execution_count": 6,
   "id": "dc3f04e0-9a4d-4244-a48d-84048a33290f",
   "metadata": {},
   "outputs": [
    {
     "name": "stdout",
     "output_type": "stream",
     "text": [
      "\n",
      "Inference device: cpu\n",
      "Time taken: 0.0372 seconds\n",
      "\n",
      "Persian cat: 7.76%\n",
      "Egyptian cat: 5.24%\n",
      "tabby: 5.07%\n",
      "red fox: 4.24%\n",
      "lynx: 3.88%\n"
     ]
    }
   ],
   "source": [
    "import torch\n",
    "from torchvision import models, transforms\n",
    "from PIL import Image\n",
    "import requests\n",
    "import time\n",
    "\n",
    "# Load labels\n",
    "LABELS_URL = \"https://raw.githubusercontent.com/pytorch/hub/master/imagenet_classes.txt\"\n",
    "labels = requests.get(LABELS_URL).text.strip().split(\"\\n\")\n",
    "\n",
    "# Set device\n",
    "device = torch.device(\"cuda\" if torch.cuda.is_available() else \"cpu\")\n",
    "\n",
    "# Transform pipeline\n",
    "transform = transforms.Compose([\n",
    "    transforms.Resize(256),\n",
    "    transforms.CenterCrop(224),\n",
    "    transforms.ToTensor(),\n",
    "    transforms.Normalize(mean=[0.485, 0.456, 0.406],\n",
    "                         std=[0.229, 0.224, 0.225])\n",
    "])\n",
    "\n",
    "def classify_image(image):\n",
    "    input_tensor = transform(image).unsqueeze(0).to(device)\n",
    "\n",
    "    model = models.resnet50(weights=models.ResNet50_Weights.DEFAULT).to(device)\n",
    "    model.eval()\n",
    "\n",
    "    with torch.no_grad():\n",
    "        start = time.time()\n",
    "        output = model(input_tensor)\n",
    "        end = time.time()\n",
    "\n",
    "    probs = torch.nn.functional.softmax(output[0], dim=0)\n",
    "    top5 = torch.topk(probs, 5)\n",
    "\n",
    "    print(f\"\\nInference device: {device}\")\n",
    "    print(f\"Time taken: {end - start:.4f} seconds\\n\")\n",
    "    for i in range(5):\n",
    "        print(f\"{labels[top5.indices[i]]}: {top5.values[i].item()*100:.2f}%\")\n",
    "\n",
    "# Example image from the web\n",
    "img_url = \"https://images.unsplash.com/photo-1592194996308-7b43878e84a6?auto=format&fit=crop&w=640&q=80\"\n",
    "img_path = \"dog.jpg\"\n",
    "\n",
    "# Download the image\n",
    "from io import BytesIO\n",
    "\n",
    "response = requests.get(img_url)\n",
    "image = Image.open(BytesIO(response.content)).convert(\"RGB\")\n",
    "\n",
    "# Run classification\n",
    "classify_image(image)"
   ]
  },
  {
   "cell_type": "code",
   "execution_count": null,
   "id": "003ce3d5-1a3e-4e38-a775-19ffa7e7032b",
   "metadata": {},
   "outputs": [],
   "source": []
  },
  {
   "cell_type": "code",
   "execution_count": null,
   "id": "dd435060-457f-457e-884a-a320ec55b657",
   "metadata": {},
   "outputs": [],
   "source": []
  }
 ],
 "metadata": {
  "kernelspec": {
   "display_name": "Python 3 (ipykernel)",
   "language": "python",
   "name": "python3"
  },
  "language_info": {
   "codemirror_mode": {
    "name": "ipython",
    "version": 3
   },
   "file_extension": ".py",
   "mimetype": "text/x-python",
   "name": "python",
   "nbconvert_exporter": "python",
   "pygments_lexer": "ipython3",
   "version": "3.13.5"
  }
 },
 "nbformat": 4,
 "nbformat_minor": 5
}
